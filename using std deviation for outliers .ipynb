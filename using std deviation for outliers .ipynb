{
 "cells": [
  {
   "cell_type": "markdown",
   "id": "e60a21d6",
   "metadata": {},
   "source": [
    "# using std deviation"
   ]
  },
  {
   "cell_type": "code",
   "execution_count": 1,
   "id": "75461ca0",
   "metadata": {},
   "outputs": [],
   "source": [
    "import pandas as pd\n",
    "import numpy as np\n",
    "from matplotlib import pyplot as plt\n",
    "%matplotlib inline\n",
    "\n"
   ]
  },
  {
   "cell_type": "code",
   "execution_count": 2,
   "id": "bf5f55e7",
   "metadata": {},
   "outputs": [],
   "source": [
    "df=pd.read_csv('/Users/niyasop/Desktop/ml-packagess/bhp.csv')"
   ]
  }
 ],
 "metadata": {
  "kernelspec": {
   "display_name": "Python 3 (ipykernel)",
   "language": "python",
   "name": "python3"
  },
  "language_info": {
   "codemirror_mode": {
    "name": "ipython",
    "version": 3
   },
   "file_extension": ".py",
   "mimetype": "text/x-python",
   "name": "python",
   "nbconvert_exporter": "python",
   "pygments_lexer": "ipython3",
   "version": "3.9.7"
  }
 },
 "nbformat": 4,
 "nbformat_minor": 5
}
